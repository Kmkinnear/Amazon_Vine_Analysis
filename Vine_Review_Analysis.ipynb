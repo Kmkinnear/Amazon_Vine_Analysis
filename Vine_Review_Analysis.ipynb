{
  "nbformat": 4,
  "nbformat_minor": 0,
  "metadata": {
    "colab": {
      "provenance": []
    },
    "kernelspec": {
      "name": "python3",
      "display_name": "Python 3"
    },
    "language_info": {
      "name": "python"
    }
  },
  "cells": [
    {
      "cell_type": "code",
      "execution_count": 1,
      "metadata": {
        "colab": {
          "base_uri": "https://localhost:8080/"
        },
        "id": "YCKw4-4w_FGt",
        "outputId": "89cfaf90-590b-48d0-89fc-d62370c89ef3"
      },
      "outputs": [
        {
          "output_type": "stream",
          "name": "stdout",
          "text": [
            "\r0% [Working]\r            \rIgn:1 https://developer.download.nvidia.com/compute/machine-learning/repos/ubuntu1804/x86_64  InRelease\n",
            "\r0% [Connecting to archive.ubuntu.com (185.125.190.36)] [Connecting to security.\r                                                                               \rHit:2 https://developer.download.nvidia.com/compute/cuda/repos/ubuntu1804/x86_64  InRelease\n",
            "Get:3 https://cloud.r-project.org/bin/linux/ubuntu bionic-cran40/ InRelease [3,626 B]\n",
            "Hit:4 https://developer.download.nvidia.com/compute/machine-learning/repos/ubuntu1804/x86_64  Release\n",
            "Hit:5 http://archive.ubuntu.com/ubuntu bionic InRelease\n",
            "Hit:6 http://ppa.launchpad.net/c2d4u.team/c2d4u4.0+/ubuntu bionic InRelease\n",
            "Get:7 http://security.ubuntu.com/ubuntu bionic-security InRelease [88.7 kB]\n",
            "Get:8 http://archive.ubuntu.com/ubuntu bionic-updates InRelease [88.7 kB]\n",
            "Hit:9 http://ppa.launchpad.net/cran/libgit2/ubuntu bionic InRelease\n",
            "Hit:11 http://ppa.launchpad.net/deadsnakes/ppa/ubuntu bionic InRelease\n",
            "Get:12 http://archive.ubuntu.com/ubuntu bionic-backports InRelease [83.3 kB]\n",
            "Hit:13 http://ppa.launchpad.net/graphics-drivers/ppa/ubuntu bionic InRelease\n",
            "Get:14 http://security.ubuntu.com/ubuntu bionic-security/main amd64 Packages [3,129 kB]\n",
            "Get:15 http://archive.ubuntu.com/ubuntu bionic-updates/main amd64 Packages [3,552 kB]\n",
            "Get:16 http://security.ubuntu.com/ubuntu bionic-security/universe amd64 Packages [1,573 kB]\n",
            "Get:17 http://security.ubuntu.com/ubuntu bionic-security/restricted amd64 Packages [1,351 kB]\n",
            "Get:18 http://archive.ubuntu.com/ubuntu bionic-updates/universe amd64 Packages [2,348 kB]\n",
            "Get:19 http://archive.ubuntu.com/ubuntu bionic-updates/restricted amd64 Packages [1,392 kB]\n",
            "Fetched 13.6 MB in 5s (3,016 kB/s)\n",
            "Reading package lists... Done\n"
          ]
        }
      ],
      "source": [
        "import os\n",
        "# Find the latest version of spark 3.2 from http://www.apache.org/dist/spark/ and enter as the spark version\n",
        "# For example:\n",
        "# spark_version = 'spark-3.2.3'\n",
        "spark_version = 'spark-3.2.3'\n",
        "os.environ['SPARK_VERSION']=spark_version\n",
        "\n",
        "# Install Spark and Java\n",
        "!apt-get update\n",
        "!apt-get install openjdk-11-jdk-headless -qq > /dev/null\n",
        "!wget -q http://www.apache.org/dist/spark/$SPARK_VERSION/$SPARK_VERSION-bin-hadoop2.7.tgz\n",
        "!tar xf $SPARK_VERSION-bin-hadoop2.7.tgz\n",
        "!pip install -q findspark\n",
        "\n",
        "# Set Environment Variables\n",
        "import os\n",
        "os.environ[\"JAVA_HOME\"] = \"/usr/lib/jvm/java-11-openjdk-amd64\"\n",
        "os.environ[\"SPARK_HOME\"] = f\"/content/{spark_version}-bin-hadoop2.7\"\n",
        "\n",
        "# Start a SparkSession\n",
        "import findspark\n",
        "findspark.init()"
      ]
    },
    {
      "cell_type": "code",
      "source": [
        "from pyspark.sql import SparkSession\n",
        "spark = SparkSession.builder.appName(\"M17-Amazon-Challenge\").config(\"spark.driver.extraClassPath\",\"/content/postgresql-42.2.16.jar\").getOrCreate()"
      ],
      "metadata": {
        "id": "2HZ-gFit_lBC"
      },
      "execution_count": 2,
      "outputs": []
    },
    {
      "cell_type": "code",
      "source": [
        "from pyspark import SparkFiles\n",
        "url = \"https://s3.amazonaws.com/amazon-reviews-pds/tsv/amazon_reviews_us_Major_Appliances_v1_00.tsv.gz\"\n",
        "spark.sparkContext.addFile(url)\n",
        "amazon_df = spark.read.option(\"encoding\", \"UTF-8\").csv(SparkFiles.get(\"\"), sep=\"\\t\", header=True, inferSchema=True)\n",
        "amazon_df.show()"
      ],
      "metadata": {
        "colab": {
          "base_uri": "https://localhost:8080/"
        },
        "id": "8r5Cu3w-_RK0",
        "outputId": "3ce211bf-b496-4945-cce1-64fd2acd0b2c"
      },
      "execution_count": 3,
      "outputs": [
        {
          "output_type": "stream",
          "name": "stdout",
          "text": [
            "+-----------+-----------+--------------+----------+--------------+--------------------+----------------+-----------+-------------+-----------+----+-----------------+--------------------+--------------------+-----------+\n",
            "|marketplace|customer_id|     review_id|product_id|product_parent|       product_title|product_category|star_rating|helpful_votes|total_votes|vine|verified_purchase|     review_headline|         review_body|review_date|\n",
            "+-----------+-----------+--------------+----------+--------------+--------------------+----------------+-----------+-------------+-----------+----+-----------------+--------------------+--------------------+-----------+\n",
            "|         US|   16199106|R203HPW78Z7N4K|B0067WNSZY|     633038551|FGGF3032MW Galler...|Major Appliances|          5|            0|          0|   N|                Y|If you need a new...|What a great stov...| 2015-08-31|\n",
            "|         US|   16374060|R2EAIGVLEALSP3|B002QSXK60|     811766671|Best Hand Clothes...|Major Appliances|          5|            1|          1|   N|                Y|          Five Stars|        worked great| 2015-08-31|\n",
            "|         US|   15322085|R1K1CD73HHLILA|B00EC452R6|     345562728|Supco SET184 Ther...|Major Appliances|          5|            0|          0|   N|                Y|       Fast Shipping|Part exactly what...| 2015-08-31|\n",
            "|         US|   32004835|R2KZBMOFRMYOPO|B00MVVIF2G|     563052763|Midea WHS-160RB1 ...|Major Appliances|          5|            1|          1|   N|                Y|          Five Stars|Love my refrigera...| 2015-08-31|\n",
            "|         US|   25414497| R6BIZOZY6UD01|B00IY7BNUW|     874236579|Avalon Bay Portab...|Major Appliances|          5|            0|          0|   N|                Y|          Five Stars|No more running t...| 2015-08-31|\n",
            "|         US|   36311751|R1MCXZFNF8E7Y0|B0033X29CI|     294467812|Danby  Freestandi...|Major Appliances|          1|            0|          0|   N|                Y|       Piece of Junk|It would not cool...| 2015-08-31|\n",
            "|         US|   30920961|R3EMB3E3ODR6BW|B005R597HA|     183784715|Avanti 110-Volt A...|Major Appliances|          5|            2|          2|   N|                Y|Works awesome for...|Works awesome for...| 2015-08-31|\n",
            "|         US|   52491265| RJTONVTTOPJ5S|B00MO6V8Y0|     960251524|      Danby products|Major Appliances|          5|            0|          0|   N|                Y|          Five Stars|exactly what I wa...| 2015-08-31|\n",
            "|         US|   48166169|R21U5QZ2CQECUM|B00HT39QDI|     992475314|3 Pack Tier1 MSWF...|Major Appliances|          4|            0|          0|   N|                Y|          Four Stars|       AS advertised| 2015-08-31|\n",
            "|         US|   50394924| RL2BBC51H89DH|B00LESFZ52|       1641606|True TSSU-60-16 6...|Major Appliances|          4|            0|          0|   N|                Y|but has poor insu...|It works as adver...| 2015-08-31|\n",
            "|         US|    3915552|R3RNEPHF3WIRSZ|B0149IJVPI|     838108342|Magic: the Gather...|Major Appliances|          2|            0|          0|   N|                N|           Two Stars|it's not worth 22...| 2015-08-31|\n",
            "|         US|   17068589|R38DNT9KML2PF3|B002HT0958|     387104338|Mini Portable Cou...|Major Appliances|          5|            0|          0|   N|                Y| Love it for camping|Wonderful! It spi...| 2015-08-31|\n",
            "|         US|   52081068|R2ECMBJM8KNNC8|B006WOBNX6|     180688127|1 X Dishwasher Ra...|Major Appliances|          4|            0|          0|   N|                Y|          Four Stars|Did the job but d...| 2015-08-31|\n",
            "|         US|   13783713|R2F3F92PRN9T7S|B00NLPMOU0|     570132358|Watson 1.5 ft AC ...|Major Appliances|          5|            0|          0|   N|                Y|Very well satisfied.|Arrived on time a...| 2015-08-31|\n",
            "|         US|   14555366|R35XNT88XVEMK6|B00KJ07SEM|     313983847|GE MWF SmartWater...|Major Appliances|          5|            1|          1|   N|                Y|          Five Stars|               Super| 2015-08-31|\n",
            "|         US|   48417244| RZRXLHQS71FUP|B001AT2ALM|     364403440|Koldfront Ultra C...|Major Appliances|          4|            1|          1|   N|                Y|          Four Stars|Looking forward t...| 2015-08-31|\n",
            "|         US|   19010760|R3J9T4MZRAURV5|B00JG8B42K|     672722354|OnePurify RFC0800...|Major Appliances|          1|            0|          0|   N|                Y|     dont waste your|cheap knock-off. ...| 2015-08-31|\n",
            "|         US|   43532555|R3CLDHHI0ZSQLO|B00FRJ5EWS|     137548022|2016 Life Water I...|Major Appliances|          5|            1|          2|   N|                N|       Great Product|My wife is lookin...| 2015-08-31|\n",
            "|         US|   21879631| RY52KZABZK8QF|B0052G14E8|     423421857|Danby 0.7 cu.ft. ...|Major Appliances|          1|            0|          0|   N|                Y|Do not recommend ...|3 of the buttons ...| 2015-08-31|\n",
            "|         US|     810098|R25RXV5X29M3UC|B00LOVVE9A|     386722389|SPT UF-304SS Ener...|Major Appliances|          4|            0|          1|   N|                Y|          Four Stars|     So far so good.| 2015-08-31|\n",
            "+-----------+-----------+--------------+----------+--------------+--------------------+----------------+-----------+-------------+-----------+----+-----------------+--------------------+--------------------+-----------+\n",
            "only showing top 20 rows\n",
            "\n"
          ]
        }
      ]
    },
    {
      "cell_type": "code",
      "source": [
        "# Create the vine_table. DataFrame\n",
        "# vine_df = df.select([])\n",
        "vine_table = amazon_df.select([\"review_id\", \"star_rating\", \"helpful_votes\", \"total_votes\", \"vine\", \"verified_purchase\"])\n",
        "vine_table.show()"
      ],
      "metadata": {
        "colab": {
          "base_uri": "https://localhost:8080/"
        },
        "id": "ub8KYySMD6si",
        "outputId": "dced9c97-eea8-4d0c-8f5b-74ca50c15c0c"
      },
      "execution_count": 4,
      "outputs": [
        {
          "output_type": "stream",
          "name": "stdout",
          "text": [
            "+--------------+-----------+-------------+-----------+----+-----------------+\n",
            "|     review_id|star_rating|helpful_votes|total_votes|vine|verified_purchase|\n",
            "+--------------+-----------+-------------+-----------+----+-----------------+\n",
            "|R203HPW78Z7N4K|          5|            0|          0|   N|                Y|\n",
            "|R2EAIGVLEALSP3|          5|            1|          1|   N|                Y|\n",
            "|R1K1CD73HHLILA|          5|            0|          0|   N|                Y|\n",
            "|R2KZBMOFRMYOPO|          5|            1|          1|   N|                Y|\n",
            "| R6BIZOZY6UD01|          5|            0|          0|   N|                Y|\n",
            "|R1MCXZFNF8E7Y0|          1|            0|          0|   N|                Y|\n",
            "|R3EMB3E3ODR6BW|          5|            2|          2|   N|                Y|\n",
            "| RJTONVTTOPJ5S|          5|            0|          0|   N|                Y|\n",
            "|R21U5QZ2CQECUM|          4|            0|          0|   N|                Y|\n",
            "| RL2BBC51H89DH|          4|            0|          0|   N|                Y|\n",
            "|R3RNEPHF3WIRSZ|          2|            0|          0|   N|                N|\n",
            "|R38DNT9KML2PF3|          5|            0|          0|   N|                Y|\n",
            "|R2ECMBJM8KNNC8|          4|            0|          0|   N|                Y|\n",
            "|R2F3F92PRN9T7S|          5|            0|          0|   N|                Y|\n",
            "|R35XNT88XVEMK6|          5|            1|          1|   N|                Y|\n",
            "| RZRXLHQS71FUP|          4|            1|          1|   N|                Y|\n",
            "|R3J9T4MZRAURV5|          1|            0|          0|   N|                Y|\n",
            "|R3CLDHHI0ZSQLO|          5|            1|          2|   N|                N|\n",
            "| RY52KZABZK8QF|          1|            0|          0|   N|                Y|\n",
            "|R25RXV5X29M3UC|          4|            0|          1|   N|                Y|\n",
            "+--------------+-----------+-------------+-----------+----+-----------------+\n",
            "only showing top 20 rows\n",
            "\n"
          ]
        }
      ]
    },
    {
      "cell_type": "code",
      "source": [
        "# Load in a swl function to use columns\n",
        "from pyspark.sql.functions import col\n",
        "\n",
        "cleaned_df = vine_table.filter(col(\"total_votes\") >= \"20\")\n",
        "cleaned_df.show()"
      ],
      "metadata": {
        "colab": {
          "base_uri": "https://localhost:8080/"
        },
        "id": "oPOcM-PyACVW",
        "outputId": "e2b9a377-ebe5-44ff-87b0-4de703a89f5c"
      },
      "execution_count": 5,
      "outputs": [
        {
          "output_type": "stream",
          "name": "stdout",
          "text": [
            "+--------------+-----------+-------------+-----------+----+-----------------+\n",
            "|     review_id|star_rating|helpful_votes|total_votes|vine|verified_purchase|\n",
            "+--------------+-----------+-------------+-----------+----+-----------------+\n",
            "|R1QXNQBTH7LIUB|          3|            9|         22|   N|                Y|\n",
            "|R3BC75VKJK6LNV|          4|           83|         89|   N|                Y|\n",
            "| R5XKK92G5N9FU|          1|           18|         22|   N|                N|\n",
            "| RYMOWYW38WKOB|          5|           35|         35|   N|                N|\n",
            "| RYHZAVESD0T37|          1|           39|         45|   N|                Y|\n",
            "|R19Y5VBOF3BQOG|          1|           26|         35|   N|                Y|\n",
            "| R8V9F3139Z1WZ|          1|           30|         34|   N|                N|\n",
            "|R3RNY5OLY451GS|          1|           25|         30|   N|                Y|\n",
            "|R16LPVYSJOAH1T|          1|           20|         20|   N|                N|\n",
            "|R2NLL7ISMM5QYQ|          4|           89|         94|   N|                Y|\n",
            "|R3FAFI6Q0YL37W|          1|           30|         35|   N|                Y|\n",
            "|R1A4JVOP7N5Q1K|          5|           28|         30|   N|                Y|\n",
            "|R30E25MXKEP9BP|          4|           36|         37|   N|                Y|\n",
            "|R2FMLYX388LR2Y|          5|           28|         33|   N|                Y|\n",
            "| R1EGFDXPYGROC|          5|           28|         32|   N|                Y|\n",
            "|R2DCZYJZRF0V2O|          5|           26|         28|   N|                Y|\n",
            "|R3QNOR0K43XLWB|          5|           41|         41|   N|                N|\n",
            "| RPNUNJJZLD11P|          1|           26|         27|   N|                N|\n",
            "|R39VRWWZWAHBPH|          1|           15|         21|   N|                Y|\n",
            "| RU7XNN9EC8V8X|          1|           31|         36|   N|                Y|\n",
            "+--------------+-----------+-------------+-----------+----+-----------------+\n",
            "only showing top 20 rows\n",
            "\n"
          ]
        }
      ]
    },
    {
      "cell_type": "code",
      "source": [
        "# Filter and retrieve all the rows where the number of helpful_votes divided by total_votes is equal to or greater than 50%.\n",
        "#from pyspark.sql.types import DoubleType\n",
        "# Dividing Columns - https://stackoverflow.com/questions/59351771/how-to-divide-each-column-in-a-df-by-other-columns-in-pyspark\n",
        "\n",
        "helpful_vote_df = cleaned_df.withColumn('Helpful Vote %', cleaned_df.helpful_votes/cleaned_df.total_votes)\n",
        "helpful_vote_df.show()\n",
        "\n",
        "helpful_vote_df_cleaned = helpful_vote_df.filter(col(\"Helpful Vote %\") >= \"0.5\")\n",
        "helpful_vote_df_cleaned.show()\n"
      ],
      "metadata": {
        "colab": {
          "base_uri": "https://localhost:8080/"
        },
        "id": "JJqybOkbAewF",
        "outputId": "bbb8939b-1b32-44c7-841b-5e590ccb6a4e"
      },
      "execution_count": 6,
      "outputs": [
        {
          "output_type": "stream",
          "name": "stdout",
          "text": [
            "+--------------+-----------+-------------+-----------+----+-----------------+------------------+\n",
            "|     review_id|star_rating|helpful_votes|total_votes|vine|verified_purchase|    Helpful Vote %|\n",
            "+--------------+-----------+-------------+-----------+----+-----------------+------------------+\n",
            "|R1QXNQBTH7LIUB|          3|            9|         22|   N|                Y|0.4090909090909091|\n",
            "|R3BC75VKJK6LNV|          4|           83|         89|   N|                Y|0.9325842696629213|\n",
            "| R5XKK92G5N9FU|          1|           18|         22|   N|                N|0.8181818181818182|\n",
            "| RYMOWYW38WKOB|          5|           35|         35|   N|                N|               1.0|\n",
            "| RYHZAVESD0T37|          1|           39|         45|   N|                Y|0.8666666666666667|\n",
            "|R19Y5VBOF3BQOG|          1|           26|         35|   N|                Y|0.7428571428571429|\n",
            "| R8V9F3139Z1WZ|          1|           30|         34|   N|                N|0.8823529411764706|\n",
            "|R3RNY5OLY451GS|          1|           25|         30|   N|                Y|0.8333333333333334|\n",
            "|R16LPVYSJOAH1T|          1|           20|         20|   N|                N|               1.0|\n",
            "|R2NLL7ISMM5QYQ|          4|           89|         94|   N|                Y|0.9468085106382979|\n",
            "|R3FAFI6Q0YL37W|          1|           30|         35|   N|                Y|0.8571428571428571|\n",
            "|R1A4JVOP7N5Q1K|          5|           28|         30|   N|                Y|0.9333333333333333|\n",
            "|R30E25MXKEP9BP|          4|           36|         37|   N|                Y| 0.972972972972973|\n",
            "|R2FMLYX388LR2Y|          5|           28|         33|   N|                Y|0.8484848484848485|\n",
            "| R1EGFDXPYGROC|          5|           28|         32|   N|                Y|             0.875|\n",
            "|R2DCZYJZRF0V2O|          5|           26|         28|   N|                Y|0.9285714285714286|\n",
            "|R3QNOR0K43XLWB|          5|           41|         41|   N|                N|               1.0|\n",
            "| RPNUNJJZLD11P|          1|           26|         27|   N|                N|0.9629629629629629|\n",
            "|R39VRWWZWAHBPH|          1|           15|         21|   N|                Y|0.7142857142857143|\n",
            "| RU7XNN9EC8V8X|          1|           31|         36|   N|                Y|0.8611111111111112|\n",
            "+--------------+-----------+-------------+-----------+----+-----------------+------------------+\n",
            "only showing top 20 rows\n",
            "\n",
            "+--------------+-----------+-------------+-----------+----+-----------------+------------------+\n",
            "|     review_id|star_rating|helpful_votes|total_votes|vine|verified_purchase|    Helpful Vote %|\n",
            "+--------------+-----------+-------------+-----------+----+-----------------+------------------+\n",
            "|R3BC75VKJK6LNV|          4|           83|         89|   N|                Y|0.9325842696629213|\n",
            "| R5XKK92G5N9FU|          1|           18|         22|   N|                N|0.8181818181818182|\n",
            "| RYMOWYW38WKOB|          5|           35|         35|   N|                N|               1.0|\n",
            "| RYHZAVESD0T37|          1|           39|         45|   N|                Y|0.8666666666666667|\n",
            "|R19Y5VBOF3BQOG|          1|           26|         35|   N|                Y|0.7428571428571429|\n",
            "| R8V9F3139Z1WZ|          1|           30|         34|   N|                N|0.8823529411764706|\n",
            "|R3RNY5OLY451GS|          1|           25|         30|   N|                Y|0.8333333333333334|\n",
            "|R16LPVYSJOAH1T|          1|           20|         20|   N|                N|               1.0|\n",
            "|R2NLL7ISMM5QYQ|          4|           89|         94|   N|                Y|0.9468085106382979|\n",
            "|R3FAFI6Q0YL37W|          1|           30|         35|   N|                Y|0.8571428571428571|\n",
            "|R1A4JVOP7N5Q1K|          5|           28|         30|   N|                Y|0.9333333333333333|\n",
            "|R30E25MXKEP9BP|          4|           36|         37|   N|                Y| 0.972972972972973|\n",
            "|R2FMLYX388LR2Y|          5|           28|         33|   N|                Y|0.8484848484848485|\n",
            "| R1EGFDXPYGROC|          5|           28|         32|   N|                Y|             0.875|\n",
            "|R2DCZYJZRF0V2O|          5|           26|         28|   N|                Y|0.9285714285714286|\n",
            "|R3QNOR0K43XLWB|          5|           41|         41|   N|                N|               1.0|\n",
            "| RPNUNJJZLD11P|          1|           26|         27|   N|                N|0.9629629629629629|\n",
            "|R39VRWWZWAHBPH|          1|           15|         21|   N|                Y|0.7142857142857143|\n",
            "| RU7XNN9EC8V8X|          1|           31|         36|   N|                Y|0.8611111111111112|\n",
            "|R2ZU7AC8QSDUOB|          4|           41|         44|   N|                Y|0.9318181818181818|\n",
            "+--------------+-----------+-------------+-----------+----+-----------------+------------------+\n",
            "only showing top 20 rows\n",
            "\n"
          ]
        }
      ]
    },
    {
      "cell_type": "code",
      "source": [
        "# Filter df to find that retrieves rows with over 50% helpful votes and was written as part of the Vine program\n",
        "\n",
        "vine_review_df = helpful_vote_df_cleaned.filter(col(\"vine\") == \"Y\")\n",
        "vine_review_df.show()"
      ],
      "metadata": {
        "colab": {
          "base_uri": "https://localhost:8080/"
        },
        "id": "gOEOcbG6Pp8J",
        "outputId": "3f652fb2-076e-4cbd-df9d-319f18b900d4"
      },
      "execution_count": 7,
      "outputs": [
        {
          "output_type": "stream",
          "name": "stdout",
          "text": [
            "+--------------+-----------+-------------+-----------+----+-----------------+------------------+\n",
            "|     review_id|star_rating|helpful_votes|total_votes|vine|verified_purchase|    Helpful Vote %|\n",
            "+--------------+-----------+-------------+-----------+----+-----------------+------------------+\n",
            "|R20O97P5V9CZ21|          3|           21|         27|   Y|                N|0.7777777777777778|\n",
            "| RCNB7YGLWKCV5|          5|           23|         30|   Y|                N|0.7666666666666667|\n",
            "| RX1ZUVGBH3HKC|          5|          814|        848|   Y|                N|0.9599056603773585|\n",
            "| RRS5AGL10DYU3|          3|           25|         29|   Y|                N|0.8620689655172413|\n",
            "| R5YFC5G8V2B3I|          5|          104|        117|   Y|                N|0.8888888888888888|\n",
            "|R1IDQ0G1S7J9TN|          5|          178|        196|   Y|                N|0.9081632653061225|\n",
            "| RKXNZX22HQZEE|          3|          182|        192|   Y|                N|0.9479166666666666|\n",
            "|R2K45IY0NO70ZI|          5|          116|        122|   Y|                N|0.9508196721311475|\n",
            "| RQXRI4UKDX877|          5|           20|         24|   Y|                N|0.8333333333333334|\n",
            "|R1L2R8OHO171YG|          5|           66|         68|   Y|                N|0.9705882352941176|\n",
            "|R15NQCQUNOSI4U|          4|           19|         22|   Y|                N|0.8636363636363636|\n",
            "|R37J6VNSC5TZVS|          4|           19|         22|   Y|                N|0.8636363636363636|\n",
            "|R3F1V21FOEIEKN|          4|           30|         33|   Y|                N|0.9090909090909091|\n",
            "|R2SQ2O06PRCM9D|          5|           28|         31|   Y|                N|0.9032258064516129|\n",
            "| RX7QEPPDUZLO7|          4|           18|         20|   Y|                N|               0.9|\n",
            "|R1B3OGO36CJKDA|          5|           15|         20|   Y|                Y|              0.75|\n",
            "|R2SIOD5SIH2LJN|          4|           25|         31|   Y|                N|0.8064516129032258|\n",
            "| R9J3GG1IL1KWC|          5|          158|        164|   Y|                N|0.9634146341463414|\n",
            "| RPGPLUGTQP80H|          4|           17|         20|   Y|                N|              0.85|\n",
            "|R2ACH3HF5VUWGD|          4|           76|         78|   Y|                N|0.9743589743589743|\n",
            "+--------------+-----------+-------------+-----------+----+-----------------+------------------+\n",
            "only showing top 20 rows\n",
            "\n"
          ]
        }
      ]
    },
    {
      "cell_type": "code",
      "source": [
        "# Filter df to find that retrieves rows with over 50% helpful votes and was not written as part of the Vine program\n",
        "\n",
        "non_vine_review_df = helpful_vote_df_cleaned.filter(col(\"vine\") == \"N\")\n",
        "non_vine_review_df.show()"
      ],
      "metadata": {
        "colab": {
          "base_uri": "https://localhost:8080/"
        },
        "id": "CyQEAKe3QHkP",
        "outputId": "41209da5-2b21-4bd8-a66c-a889f8f4dc85"
      },
      "execution_count": 8,
      "outputs": [
        {
          "output_type": "stream",
          "name": "stdout",
          "text": [
            "+--------------+-----------+-------------+-----------+----+-----------------+------------------+\n",
            "|     review_id|star_rating|helpful_votes|total_votes|vine|verified_purchase|    Helpful Vote %|\n",
            "+--------------+-----------+-------------+-----------+----+-----------------+------------------+\n",
            "|R3BC75VKJK6LNV|          4|           83|         89|   N|                Y|0.9325842696629213|\n",
            "| R5XKK92G5N9FU|          1|           18|         22|   N|                N|0.8181818181818182|\n",
            "| RYMOWYW38WKOB|          5|           35|         35|   N|                N|               1.0|\n",
            "| RYHZAVESD0T37|          1|           39|         45|   N|                Y|0.8666666666666667|\n",
            "|R19Y5VBOF3BQOG|          1|           26|         35|   N|                Y|0.7428571428571429|\n",
            "| R8V9F3139Z1WZ|          1|           30|         34|   N|                N|0.8823529411764706|\n",
            "|R3RNY5OLY451GS|          1|           25|         30|   N|                Y|0.8333333333333334|\n",
            "|R16LPVYSJOAH1T|          1|           20|         20|   N|                N|               1.0|\n",
            "|R2NLL7ISMM5QYQ|          4|           89|         94|   N|                Y|0.9468085106382979|\n",
            "|R3FAFI6Q0YL37W|          1|           30|         35|   N|                Y|0.8571428571428571|\n",
            "|R1A4JVOP7N5Q1K|          5|           28|         30|   N|                Y|0.9333333333333333|\n",
            "|R30E25MXKEP9BP|          4|           36|         37|   N|                Y| 0.972972972972973|\n",
            "|R2FMLYX388LR2Y|          5|           28|         33|   N|                Y|0.8484848484848485|\n",
            "| R1EGFDXPYGROC|          5|           28|         32|   N|                Y|             0.875|\n",
            "|R2DCZYJZRF0V2O|          5|           26|         28|   N|                Y|0.9285714285714286|\n",
            "|R3QNOR0K43XLWB|          5|           41|         41|   N|                N|               1.0|\n",
            "| RPNUNJJZLD11P|          1|           26|         27|   N|                N|0.9629629629629629|\n",
            "|R39VRWWZWAHBPH|          1|           15|         21|   N|                Y|0.7142857142857143|\n",
            "| RU7XNN9EC8V8X|          1|           31|         36|   N|                Y|0.8611111111111112|\n",
            "|R2ZU7AC8QSDUOB|          4|           41|         44|   N|                Y|0.9318181818181818|\n",
            "+--------------+-----------+-------------+-----------+----+-----------------+------------------+\n",
            "only showing top 20 rows\n",
            "\n"
          ]
        }
      ]
    },
    {
      "cell_type": "code",
      "source": [
        "# Determine the total number of reviews\n",
        "total_reviews = amazon_df.count()\n",
        "total_reviews"
      ],
      "metadata": {
        "colab": {
          "base_uri": "https://localhost:8080/"
        },
        "id": "P3JJSDFBRu2L",
        "outputId": "1c1641dd-9b0a-499d-8fc7-afaff7692da8"
      },
      "execution_count": 9,
      "outputs": [
        {
          "output_type": "execute_result",
          "data": {
            "text/plain": [
              "96901"
            ]
          },
          "metadata": {},
          "execution_count": 9
        }
      ]
    },
    {
      "cell_type": "code",
      "source": [
        "# Determine the total number of paid reviews\n",
        "total_paid_reviews = amazon_df.filter(col(\"vine\") == \"Y\").count()\n",
        "total_paid_reviews"
      ],
      "metadata": {
        "colab": {
          "base_uri": "https://localhost:8080/"
        },
        "id": "96QsAcPx0R6b",
        "outputId": "a6e8b589-5329-40d8-9e1d-31f856410329"
      },
      "execution_count": 32,
      "outputs": [
        {
          "output_type": "execute_result",
          "data": {
            "text/plain": [
              "248"
            ]
          },
          "metadata": {},
          "execution_count": 32
        }
      ]
    },
    {
      "cell_type": "code",
      "source": [
        "# Determine the total number of unpaid reviews\n",
        "total_unpaid_reviews = amazon_df.filter(col(\"vine\") == \"N\").count()\n",
        "total_unpaid_reviews"
      ],
      "metadata": {
        "colab": {
          "base_uri": "https://localhost:8080/"
        },
        "id": "W-nIz5fC0yYX",
        "outputId": "428e6163-dcd3-492f-9eb6-277d5e1d220a"
      },
      "execution_count": 31,
      "outputs": [
        {
          "output_type": "execute_result",
          "data": {
            "text/plain": [
              "96653"
            ]
          },
          "metadata": {},
          "execution_count": 31
        }
      ]
    },
    {
      "cell_type": "code",
      "source": [
        "# Determine the total number of 5-star reviews\n",
        "five_star_reviews = amazon_df.filter(col(\"star_rating\") == \"5\").count()\n",
        "five_star_reviews"
      ],
      "metadata": {
        "colab": {
          "base_uri": "https://localhost:8080/"
        },
        "id": "9ekqa-rKTKZv",
        "outputId": "bed943ea-0096-436f-94cd-5a782edb3433"
      },
      "execution_count": 10,
      "outputs": [
        {
          "output_type": "execute_result",
          "data": {
            "text/plain": [
              "49704"
            ]
          },
          "metadata": {},
          "execution_count": 10
        }
      ]
    },
    {
      "cell_type": "code",
      "source": [
        "# Determine the total number of paid 5-star reviews\n",
        "# https://www.geeksforgeeks.org/pyspark-filter-dataframe-based-on-multiple-conditions/\n",
        "paid_five_star_reviews = amazon_df.filter((col(\"vine\") == \"Y\") &\n",
        "                                          (col(\"star_rating\") == \"5\")).count()\n",
        "paid_five_star_reviews\n"
      ],
      "metadata": {
        "colab": {
          "base_uri": "https://localhost:8080/"
        },
        "id": "bD2HvwvjUtoh",
        "outputId": "7c92bd03-e33d-44b5-c4c9-dd18e1581fc6"
      },
      "execution_count": 18,
      "outputs": [
        {
          "output_type": "execute_result",
          "data": {
            "text/plain": [
              "112"
            ]
          },
          "metadata": {},
          "execution_count": 18
        }
      ]
    },
    {
      "cell_type": "code",
      "source": [
        "# Determine precentage of paid 5-star reviews among total paid reviews \n",
        "paid_five_star_reviews_percent = (paid_five_star_reviews / total_paid_reviews) * 100\n",
        "\n",
        "paid_five_star_reviews_percent"
      ],
      "metadata": {
        "colab": {
          "base_uri": "https://localhost:8080/"
        },
        "id": "gu7Qq5WGzCF_",
        "outputId": "06503233-36e3-4826-f7e2-7fb72016448c"
      },
      "execution_count": 28,
      "outputs": [
        {
          "output_type": "execute_result",
          "data": {
            "text/plain": [
              "45.16129032258064"
            ]
          },
          "metadata": {},
          "execution_count": 28
        }
      ]
    },
    {
      "cell_type": "code",
      "source": [
        "# Determine the total number of unpaiid 5-star reviews\n",
        "unpaid_five_star_reviews = amazon_df.filter((col(\"vine\") == \"N\") &\n",
        "                                          (col(\"star_rating\") == \"5\")).count()\n",
        "unpaid_five_star_reviews"
      ],
      "metadata": {
        "colab": {
          "base_uri": "https://localhost:8080/"
        },
        "id": "r837fNgZIDR9",
        "outputId": "8c966dc7-9243-4337-8915-cf6f2a75cc0c"
      },
      "execution_count": 19,
      "outputs": [
        {
          "output_type": "execute_result",
          "data": {
            "text/plain": [
              "49592"
            ]
          },
          "metadata": {},
          "execution_count": 19
        }
      ]
    },
    {
      "cell_type": "code",
      "source": [
        "# Determine precentage of unpaid 5-star reviews among total unpaid reviews \n",
        "unpaid_five_star_reviews_percent = (unpaid_five_star_reviews / total_unpaid_reviews) * 100\n",
        "\n",
        "unpaid_five_star_reviews_percent"
      ],
      "metadata": {
        "colab": {
          "base_uri": "https://localhost:8080/"
        },
        "id": "BRM_APF2047E",
        "outputId": "a22213ba-8194-4585-8170-e65a23040573"
      },
      "execution_count": 30,
      "outputs": [
        {
          "output_type": "execute_result",
          "data": {
            "text/plain": [
              "51.30932304222321"
            ]
          },
          "metadata": {},
          "execution_count": 30
        }
      ]
    },
    {
      "cell_type": "code",
      "source": [
        "vine_review_df.describe().show()"
      ],
      "metadata": {
        "colab": {
          "base_uri": "https://localhost:8080/"
        },
        "id": "xN3HnQbFEYgY",
        "outputId": "2f1916bd-03fe-4eb7-a6a9-d6c2c4161ff2"
      },
      "execution_count": 36,
      "outputs": [
        {
          "output_type": "stream",
          "name": "stdout",
          "text": [
            "+-------+--------------+------------------+------------------+------------------+----+-----------------+-------------------+\n",
            "|summary|     review_id|       star_rating|     helpful_votes|       total_votes|vine|verified_purchase|     Helpful Vote %|\n",
            "+-------+--------------+------------------+------------------+------------------+----+-----------------+-------------------+\n",
            "|  count|            35|                35|                35|                35|  35|               35|                 35|\n",
            "|   mean|          null| 4.371428571428571| 75.28571428571429| 80.57142857142857|null|             null| 0.9057453055399282|\n",
            "| stddev|          null|0.7702449681266148|136.07082313105562|141.57232317467856|null|             null|0.06298380544915456|\n",
            "|    min|R15NQCQUNOSI4U|                 2|                15|                20|   Y|                N|               0.75|\n",
            "|    max| RX7QEPPDUZLO7|                 5|               814|               848|   Y|                Y| 0.9807692307692307|\n",
            "+-------+--------------+------------------+------------------+------------------+----+-----------------+-------------------+\n",
            "\n"
          ]
        }
      ]
    },
    {
      "cell_type": "code",
      "source": [
        "non_vine_review_df.describe().show()"
      ],
      "metadata": {
        "colab": {
          "base_uri": "https://localhost:8080/"
        },
        "id": "8w3ftXmREoxq",
        "outputId": "6b3b3ce8-e4ca-4ea5-d9cf-c2da510b5038"
      },
      "execution_count": 37,
      "outputs": [
        {
          "output_type": "stream",
          "name": "stdout",
          "text": [
            "+-------+--------------+------------------+-----------------+-----------------+----+-----------------+-------------------+\n",
            "|summary|     review_id|       star_rating|    helpful_votes|      total_votes|vine|verified_purchase|     Helpful Vote %|\n",
            "+-------+--------------+------------------+-----------------+-----------------+----+-----------------+-------------------+\n",
            "|  count|          4957|              4957|             4957|             4957|4957|             4957|               4957|\n",
            "|   mean|          null| 3.246520072624571|48.58644341335485|53.22796045995562|null|             null| 0.8886292696877135|\n",
            "| stddev|          null|1.7280125973419265|77.04607780493804|79.32273398498282|null|             null|0.10134464144927993|\n",
            "|    min|R100212BMGLGI0|                 1|               10|               20|   N|                N|                0.5|\n",
            "|    max| RZZQQEWCN58IM|                 5|             1724|             1761|   N|                Y|                1.0|\n",
            "+-------+--------------+------------------+-----------------+-----------------+----+-----------------+-------------------+\n",
            "\n"
          ]
        }
      ]
    }
  ]
}